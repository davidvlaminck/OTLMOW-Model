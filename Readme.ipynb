{
  "metadata": {
    "language_info": {
      "codemirror_mode": {
        "name": "python",
        "version": 3
      },
      "file_extension": ".py",
      "mimetype": "text/x-python",
      "name": "python",
      "nbconvert_exporter": "python",
      "pygments_lexer": "ipython3",
      "version": "3.8"
    },
    "kernelspec": {
      "name": "python",
      "display_name": "Python (Pyodide)",
      "language": "python"
    },
    "colab": {
      "provenance": []
    }
  },
  "nbformat_minor": 0,
  "nbformat": 4,
  "cells": [
    {
      "cell_type": "markdown",
      "source": [
        "# Installation and requirements\n",
        "OTLMOW-Model has no dependencies other than the standard Python libraries. Currently, you need at least Python version 3.6 to use this library. To install the OTL MOW project into your Python project, use pip to install it:"
      ],
      "metadata": {
        "id": "xHR3g4IRV983"
      }
    },
    {
      "cell_type": "code",
      "source": [
        "pip install otlmow-model"
      ],
      "metadata": {
        "trusted": true,
        "id": "IQrVDOhX1wGc"
      },
      "execution_count": null,
      "outputs": []
    },
    {
      "cell_type": "markdown",
      "source": [
        "To upgrade an existing installation use:"
      ],
      "metadata": {
        "id": "1Wa8wQHkWdnE"
      }
    },
    {
      "cell_type": "code",
      "source": [
        "pip install otlmow-model --upgrade"
      ],
      "metadata": {
        "id": "5ImQoo8iWeGk"
      },
      "execution_count": null,
      "outputs": []
    },
    {
      "cell_type": "markdown",
      "source": [
        "# Basic usage and code examples\n",
        "To use any of the classes in the class model, instantiate a class after importing it. In this example the Camera class is used. The import statement is needed to find the class within the file structure."
      ],
      "metadata": {
        "id": "o6X2QEVZWoFv"
      }
    },
    {
      "cell_type": "code",
      "source": [
        "from otlmow_model.Classes.Onderdeel.Camera import Camera\n",
        "camera = Camera()"
      ],
      "metadata": {
        "trusted": true,
        "id": "NtUXFvwF1wGe"
      },
      "execution_count": null,
      "outputs": []
    },
    {
      "cell_type": "markdown",
      "source": [
        "You can also create an instance dynamically by porving the typeURI. In this case you won't need to import the class specifically. Instead you'll import the `dynamic_create_instance_from_uri` function."
      ],
      "metadata": {
        "id": "gVdqchXVXaR-"
      }
    },
    {
      "cell_type": "code",
      "source": [
        "from otlmow_model.Helpers.AssetCreator import dynamic_create_instance_from_uri\n",
        "camera_type_uri = 'https://wegenenverkeer.data.vlaanderen.be/ns/onderdeel#Camera'\n",
        "camera = dynamic_create_instance_from_uri(camera_type_uri)"
      ],
      "metadata": {
        "tags": [],
        "trusted": true,
        "id": "siUj1JmR1wGf"
      },
      "execution_count": null,
      "outputs": []
    },
    {
      "cell_type": "markdown",
      "source": [
        "Alternatively, you can also use `dynamic_create_instance_from_ns_and_name` by providing the namespace and the class name."
      ],
      "metadata": {
        "id": "d5HZd821X0S7"
      }
    },
    {
      "cell_type": "code",
      "source": [
        "from otlmow_model.Helpers.AssetCreator import dynamic_create_instance_from_ns_and_name\n",
        "camera = dynamic_create_instance_from_ns_and_name(namespace='onderdeel', class_name='Camera')"
      ],
      "metadata": {
        "tags": [],
        "trusted": true,
        "id": "eFJ3PoFU1wGg"
      },
      "execution_count": null,
      "outputs": []
    },
    {
      "cell_type": "markdown",
      "source": [
        "Now, this Camera instance can be used by accessing its properties."
      ],
      "metadata": {
        "id": "Z7Xf4C6BYWxK"
      }
    },
    {
      "cell_type": "code",
      "source": [
        "camera.toestand = 'in-gebruik'\n",
        "camera.naam = 'CAM0001'\n",
        "camera.opstelhoogte.waarde = 6.0\n",
        "print(f'The name of the camera is {camera.naam}')"
      ],
      "metadata": {
        "trusted": true,
        "colab": {
          "base_uri": "https://localhost:8080/"
        },
        "id": "H96bGSQh1wGh",
        "outputId": "bb6a35f8-2351-4af5-d0f3-321640bf605d"
      },
      "execution_count": null,
      "outputs": [
        {
          "output_type": "stream",
          "name": "stdout",
          "text": [
            "The name of the camera is CAM0001\n"
          ]
        }
      ]
    },
    {
      "cell_type": "markdown",
      "source": [
        "It's also possible to instantiate an object by providing a dictionary, using the `from_dict` function, which results in the same object as above. The class is created and the attributes are filled with the data from the dicionary. Either use the function from the Camera object after importing it, or use the function from the generic OTLObject class. (example below)"
      ],
      "metadata": {
        "id": "JPCn60r0ZPvx"
      }
    },
    {
      "cell_type": "code",
      "source": [
        "from otlmow_model.BaseClasses.OTLObject import OTLObject\n",
        "d = { 'typeURI': 'https://wegenenverkeer.data.vlaanderen.be/ns/onderdeel#Camera',\n",
        "    'toestand': 'in-gebruik',\n",
        "    'naam': 'CAM0001',\n",
        "    'opstelhoogte': {'waarde': 6.0}}\n",
        "camera = OTLObject.from_dict(d)"
      ],
      "metadata": {
        "trusted": true,
        "id": "F8reSjqA1wGh"
      },
      "execution_count": null,
      "outputs": []
    },
    {
      "cell_type": "markdown",
      "source": [
        "This library supports validation when assiging values to the properties of OTL compliant objects. For example: assigning the string 'True' to a boolean attribute will only raise a warning as the value can be converted and interpreted."
      ],
      "metadata": {
        "id": "tGDgAQY6adYS"
      }
    },
    {
      "cell_type": "code",
      "source": [
        "camera.isPtz = 'True'\n"
      ],
      "metadata": {
        "trusted": true,
        "colab": {
          "base_uri": "https://localhost:8080/"
        },
        "id": "NUXR8Onf1wGi",
        "outputId": "971a3f44-4cd2-4dc8-c4e1-d19a3c2f18c6"
      },
      "execution_count": null,
      "outputs": [
        {
          "output_type": "stream",
          "name": "stderr",
          "text": [
            "WARNING:root:Assigned a string to a boolean datatype. Automatically converted to the correct type. Please change the type\n"
          ]
        }
      ]
    },
    {
      "cell_type": "markdown",
      "source": [
        "In the example below a floating point number is assigned to the boolean attribute. Conversion between these types is not supported resulting in a `CouldNotConvertToCorrectTypeError`."
      ],
      "metadata": {
        "id": "3InN7T1IaHhi"
      }
    },
    {
      "cell_type": "code",
      "source": [
        "camera.isPtz = 20.0"
      ],
      "metadata": {
        "colab": {
          "base_uri": "https://localhost:8080/",
          "height": 311
        },
        "id": "298ZNUaGa-Nd",
        "outputId": "4fac9062-0f2a-4fbd-fe45-447cd51137b1",
        "tags": [
            "raises-exception"
          ]
      },
      "execution_count": null,
      "outputs": [
        {
          "output_type": "error",
          "ename": "CouldNotConvertToCorrectTypeError",
          "evalue": "ignored",
          "traceback": [
            "\u001b[0;31m---------------------------------------------------------------------------\u001b[0m",
            "\u001b[0;31mCouldNotConvertToCorrectTypeError\u001b[0m         Traceback (most recent call last)",
            "\u001b[0;32m<ipython-input-27-e3db58385f3f>\u001b[0m in \u001b[0;36m<cell line: 1>\u001b[0;34m()\u001b[0m\n\u001b[0;32m----> 1\u001b[0;31m \u001b[0mcamera\u001b[0m\u001b[0;34m.\u001b[0m\u001b[0misPtz\u001b[0m \u001b[0;34m=\u001b[0m \u001b[0;36m20.0\u001b[0m\u001b[0;34m\u001b[0m\u001b[0;34m\u001b[0m\u001b[0m\n\u001b[0m",
            "\u001b[0;32m/usr/local/lib/python3.10/dist-packages/otlmow_model/BaseClasses/OTLObject.py\u001b[0m in \u001b[0;36m__setattr__\u001b[0;34m(self, name, value)\u001b[0m\n\u001b[1;32m    272\u001b[0m     \u001b[0;32mdef\u001b[0m \u001b[0m__setattr__\u001b[0m\u001b[0;34m(\u001b[0m\u001b[0mself\u001b[0m\u001b[0;34m,\u001b[0m \u001b[0mname\u001b[0m\u001b[0;34m,\u001b[0m \u001b[0mvalue\u001b[0m\u001b[0;34m)\u001b[0m\u001b[0;34m:\u001b[0m\u001b[0;34m\u001b[0m\u001b[0;34m\u001b[0m\u001b[0m\n\u001b[1;32m    273\u001b[0m         \u001b[0;32mif\u001b[0m \u001b[0mname\u001b[0m \u001b[0;34m!=\u001b[0m \u001b[0;34m'typeURI'\u001b[0m\u001b[0;34m:\u001b[0m\u001b[0;34m\u001b[0m\u001b[0;34m\u001b[0m\u001b[0m\n\u001b[0;32m--> 274\u001b[0;31m             \u001b[0msuper\u001b[0m\u001b[0;34m(\u001b[0m\u001b[0mOTLObject\u001b[0m\u001b[0;34m,\u001b[0m \u001b[0mself\u001b[0m\u001b[0;34m)\u001b[0m\u001b[0;34m.\u001b[0m\u001b[0m__setattr__\u001b[0m\u001b[0;34m(\u001b[0m\u001b[0mname\u001b[0m\u001b[0;34m,\u001b[0m \u001b[0mvalue\u001b[0m\u001b[0;34m)\u001b[0m\u001b[0;34m\u001b[0m\u001b[0;34m\u001b[0m\u001b[0m\n\u001b[0m\u001b[1;32m    275\u001b[0m         \u001b[0;32melse\u001b[0m\u001b[0;34m:\u001b[0m\u001b[0;34m\u001b[0m\u001b[0;34m\u001b[0m\u001b[0m\n\u001b[1;32m    276\u001b[0m             \u001b[0;32mif\u001b[0m \u001b[0mhasattr\u001b[0m\u001b[0;34m(\u001b[0m\u001b[0mself\u001b[0m\u001b[0;34m,\u001b[0m \u001b[0;34m'typeURI'\u001b[0m\u001b[0;34m)\u001b[0m \u001b[0;32mand\u001b[0m \u001b[0;34m(\u001b[0m\u001b[0mvalue\u001b[0m \u001b[0;32mis\u001b[0m \u001b[0;32mnot\u001b[0m \u001b[0;32mNone\u001b[0m \u001b[0;32mor\u001b[0m \u001b[0mself\u001b[0m\u001b[0;34m.\u001b[0m\u001b[0mtypeURI\u001b[0m \u001b[0;32mis\u001b[0m \u001b[0;32mnot\u001b[0m \u001b[0;32mNone\u001b[0m\u001b[0;34m)\u001b[0m\u001b[0;34m:\u001b[0m\u001b[0;34m\u001b[0m\u001b[0;34m\u001b[0m\u001b[0m\n",
            "\u001b[0;32m/usr/local/lib/python3.10/dist-packages/otlmow_model/Classes/Onderdeel/Camera.py\u001b[0m in \u001b[0;36misPtz\u001b[0;34m(self, value)\u001b[0m\n\u001b[1;32m    203\u001b[0m     \u001b[0;34m@\u001b[0m\u001b[0misPtz\u001b[0m\u001b[0;34m.\u001b[0m\u001b[0msetter\u001b[0m\u001b[0;34m\u001b[0m\u001b[0;34m\u001b[0m\u001b[0m\n\u001b[1;32m    204\u001b[0m     \u001b[0;32mdef\u001b[0m \u001b[0misPtz\u001b[0m\u001b[0;34m(\u001b[0m\u001b[0mself\u001b[0m\u001b[0;34m,\u001b[0m \u001b[0mvalue\u001b[0m\u001b[0;34m)\u001b[0m\u001b[0;34m:\u001b[0m\u001b[0;34m\u001b[0m\u001b[0;34m\u001b[0m\u001b[0m\n\u001b[0;32m--> 205\u001b[0;31m         \u001b[0mself\u001b[0m\u001b[0;34m.\u001b[0m\u001b[0m_isPtz\u001b[0m\u001b[0;34m.\u001b[0m\u001b[0mset_waarde\u001b[0m\u001b[0;34m(\u001b[0m\u001b[0mvalue\u001b[0m\u001b[0;34m,\u001b[0m \u001b[0mowner\u001b[0m\u001b[0;34m=\u001b[0m\u001b[0mself\u001b[0m\u001b[0;34m)\u001b[0m\u001b[0;34m\u001b[0m\u001b[0;34m\u001b[0m\u001b[0m\n\u001b[0m\u001b[1;32m    206\u001b[0m \u001b[0;34m\u001b[0m\u001b[0m\n\u001b[1;32m    207\u001b[0m     \u001b[0;34m@\u001b[0m\u001b[0mproperty\u001b[0m\u001b[0;34m\u001b[0m\u001b[0;34m\u001b[0m\u001b[0m\n",
            "\u001b[0;32m/usr/local/lib/python3.10/dist-packages/otlmow_model/BaseClasses/OTLObject.py\u001b[0m in \u001b[0;36mset_waarde\u001b[0;34m(self, value, owner)\u001b[0m\n\u001b[1;32m    179\u001b[0m                 \u001b[0mself\u001b[0m\u001b[0;34m.\u001b[0m\u001b[0mwaarde\u001b[0m \u001b[0;34m=\u001b[0m \u001b[0mvalue\u001b[0m\u001b[0;34m\u001b[0m\u001b[0;34m\u001b[0m\u001b[0m\n\u001b[1;32m    180\u001b[0m             \u001b[0;32melse\u001b[0m\u001b[0;34m:\u001b[0m\u001b[0;34m\u001b[0m\u001b[0;34m\u001b[0m\u001b[0m\n\u001b[0;32m--> 181\u001b[0;31m                 \u001b[0mconverted_value\u001b[0m \u001b[0;34m=\u001b[0m \u001b[0mself\u001b[0m\u001b[0;34m.\u001b[0m\u001b[0mfield\u001b[0m\u001b[0;34m.\u001b[0m\u001b[0mconvert_to_correct_type\u001b[0m\u001b[0;34m(\u001b[0m\u001b[0mvalue\u001b[0m\u001b[0;34m)\u001b[0m\u001b[0;34m\u001b[0m\u001b[0;34m\u001b[0m\u001b[0m\n\u001b[0m\u001b[1;32m    182\u001b[0m                 \u001b[0;32mif\u001b[0m \u001b[0missubclass\u001b[0m\u001b[0;34m(\u001b[0m\u001b[0mself\u001b[0m\u001b[0;34m.\u001b[0m\u001b[0mfield\u001b[0m\u001b[0;34m,\u001b[0m \u001b[0mKeuzelijstField\u001b[0m\u001b[0;34m)\u001b[0m\u001b[0;34m:\u001b[0m\u001b[0;34m\u001b[0m\u001b[0;34m\u001b[0m\u001b[0m\n\u001b[1;32m    183\u001b[0m                     \u001b[0mconverted_value\u001b[0m \u001b[0;34m=\u001b[0m \u001b[0mself\u001b[0m\u001b[0;34m.\u001b[0m\u001b[0mfield\u001b[0m\u001b[0;34m.\u001b[0m\u001b[0mconvert_to_invulwaarde\u001b[0m\u001b[0;34m(\u001b[0m\u001b[0mconverted_value\u001b[0m\u001b[0;34m,\u001b[0m \u001b[0mself\u001b[0m\u001b[0;34m.\u001b[0m\u001b[0mfield\u001b[0m\u001b[0;34m)\u001b[0m\u001b[0;34m\u001b[0m\u001b[0;34m\u001b[0m\u001b[0m\n",
            "\u001b[0;32m/usr/local/lib/python3.10/dist-packages/otlmow_model/BaseClasses/BooleanField.py\u001b[0m in \u001b[0;36mconvert_to_correct_type\u001b[0;34m(cls, value, log_warnings)\u001b[0m\n\u001b[1;32m     39\u001b[0m                 \u001b[0;32mreturn\u001b[0m \u001b[0;32mFalse\u001b[0m\u001b[0;34m\u001b[0m\u001b[0;34m\u001b[0m\u001b[0m\n\u001b[1;32m     40\u001b[0m             \u001b[0;32mreturn\u001b[0m \u001b[0;32mTrue\u001b[0m\u001b[0;34m\u001b[0m\u001b[0;34m\u001b[0m\u001b[0m\n\u001b[0;32m---> 41\u001b[0;31m         \u001b[0;32mraise\u001b[0m \u001b[0mCouldNotConvertToCorrectTypeError\u001b[0m\u001b[0;34m(\u001b[0m\u001b[0;34mf'{value} could not be converted to correct type (implied by {cls.__name__})'\u001b[0m\u001b[0;34m)\u001b[0m\u001b[0;34m\u001b[0m\u001b[0;34m\u001b[0m\u001b[0m\n\u001b[0m\u001b[1;32m     42\u001b[0m \u001b[0;34m\u001b[0m\u001b[0m\n\u001b[1;32m     43\u001b[0m     \u001b[0;34m@\u001b[0m\u001b[0mstaticmethod\u001b[0m\u001b[0;34m\u001b[0m\u001b[0;34m\u001b[0m\u001b[0m\n",
            "\u001b[0;31mCouldNotConvertToCorrectTypeError\u001b[0m: 20.0 could not be converted to correct type (implied by BooleanField)"
          ]
        }
      ]
    },
    {
      "cell_type": "markdown",
      "source": [
        "The camera instance can be printed in a terminal to view the values of its attrbiutes. Attributes without a value are omitted."
      ],
      "metadata": {
        "id": "ZX_OIwL_cY78"
      }
    },
    {
      "cell_type": "code",
      "source": [
        "print(camera)"
      ],
      "metadata": {
        "trusted": true,
        "colab": {
          "base_uri": "https://localhost:8080/"
        },
        "id": "mIC5XxEG1wGj",
        "outputId": "b24f9ca9-9aea-48a5-d6ed-37f07e700ced"
      },
      "execution_count": null,
      "outputs": [
        {
          "output_type": "stream",
          "name": "stdout",
          "text": [
            "<Camera> object\n",
            "    typeURI : https://wegenenverkeer.data.vlaanderen.be/ns/onderdeel#Camera\n",
            "    isPtz : True\n",
            "    naam : CAM0001\n",
            "    opstelhoogte :\n",
            "        waarde : 6.0\n",
            "    toestand : in-gebruik\n"
          ]
        }
      ]
    },
    {
      "cell_type": "markdown",
      "source": [
        "By using the meta_info function and printing it, you can inspect the meta info of the object. For a class this will print out the attributes and their types."
      ],
      "metadata": {
        "id": "7ylN0bCecuIM"
      }
    },
    {
      "cell_type": "code",
      "source": [
        "from otlmow_model.BaseClasses.MetaInfo import meta_info\n",
        "print(meta_info(camera))"
      ],
      "metadata": {
        "trusted": true,
        "colab": {
          "base_uri": "https://localhost:8080/"
        },
        "id": "s9DChOGG1wGj",
        "outputId": "0424fb9a-c8e8-489b-aee7-9e38b0a7c611"
      },
      "execution_count": null,
      "outputs": [
        {
          "output_type": "stream",
          "name": "stdout",
          "text": [
            "Showing metadata of Camera:\n",
            "typeURI: https://wegenenverkeer.data.vlaanderen.be/ns/onderdeel#Camera\n",
            "definition: Een CCTV-camera, closed-circuit television camera, kortweg camera, produceert beelden of opnames voor bewaking van een regio vanop afstand. Het is een element dat beelden neemt van een locatie en deze doorgeeft naar verschillende partijen om zo de werkelijke situatie te kunnen inschatten vanop afstand. Deze camera kan van het analoge type zijn of digitaal.\n",
            "attributes:\n",
            "    assetId (type: DtcIdentificator)\n",
            "    beeldverwerkingsinstelling (type: DtcCameraBeeldverwerking)\n",
            "    bestekPostNummer (type: String)\n",
            "    configBestandAid (type: DtcDocument) <deprecated since 2.3.0>\n",
            "    datumOprichtingObject (type: Date)\n",
            "    dnsNaam (type: String)\n",
            "    geometry (type: WKT)\n",
            "    heeftAid (type: Boolean) <deprecated since 2.3.0>\n",
            "    heeftSpitsstrook (type: Boolean) <deprecated since 2.3.0>\n",
            "    ipAdres (type: DteIPv4Adres)\n",
            "    isActief (type: Boolean)\n",
            "    isPtz (type: Boolean)\n",
            "    merk (type: KlCameraMerk)\n",
            "    modelnaam (type: KlCameraModelnaam)\n",
            "    naam (type: String)\n",
            "    notitie (type: String)\n",
            "    opstelhoogte (type: KwantWrdInMeter)\n",
            "    serienummer (type: String)\n",
            "    servicePrioriteit (type: KlServicePrioriteit)\n",
            "    spectrum (type: KlSpectrum)\n",
            "    standaardBestekPostNummer (type: String)\n",
            "    technischeFiche (type: DtcDocument)\n",
            "    theoretischeLevensduur (type: KwantWrdInMaand)\n",
            "    toestand (type: KlAIMToestand)\n"
          ]
        }
      ]
    },
    {
      "cell_type": "markdown",
      "source": [
        "The meta info of attributes is also available."
      ],
      "metadata": {
        "id": "3l5kKtxSuHEv"
      }
    },
    {
      "cell_type": "code",
      "source": [
        "print(meta_info(camera, attribute='toestand'))"
      ],
      "metadata": {
        "trusted": true,
        "colab": {
          "base_uri": "https://localhost:8080/"
        },
        "id": "xdQdzvtg1wGk",
        "outputId": "513b810d-8e40-4b40-d0b6-cbce058c6e96"
      },
      "execution_count": null,
      "outputs": [
        {
          "output_type": "stream",
          "name": "stdout",
          "text": [
            "Showing metadata of toestand:\n",
            "typeURI: https://wegenenverkeer.data.vlaanderen.be/ns/implementatieelement#AIMToestand.toestand\n",
            "definition: Geeft de actuele stand in de levenscyclus van het object.\n",
            "valid values:\n",
            "    geannuleerd\n",
            "    gepland\n",
            "    in-gebruik\n",
            "    in-ontwerp\n",
            "    in-opbouw\n",
            "    overgedragen\n",
            "    uit-gebruik\n",
            "    verwijderd\n"
          ]
        }
      ]
    },
    {
      "cell_type": "markdown",
      "source": [
        "# Extra features\n",
        "Using the RelationValidator it's possible to validate relations between objects. In the example below, the relation between the two types is not a valid relation resulting in False "
      ],
      "metadata": {
        "id": "2UFSrW_duck3"
      }
    },
    {
      "cell_type": "code",
      "source": [
        "from otlmow_model.Classes.Onderdeel.Camera import Camera\n",
        "from otlmow_model.Classes.Onderdeel.Bevestiging import Bevestiging\n",
        "from otlmow_model.Classes.Onderdeel.Wegkantkast import Wegkantkast\n",
        "from otlmow_model.Helpers.RelationValidator import is_valid_relation\n",
        "\n",
        "camera = Camera()\n",
        "kast = Wegkantkast()\n",
        "\n",
        "print(is_valid_relation(source=camera, target=kast, relation_type=Bevestiging))"
      ],
      "metadata": {
        "trusted": true,
        "colab": {
          "base_uri": "https://localhost:8080/"
        },
        "id": "hvGL9kwq1wGk",
        "outputId": "b4845586-d232-4f83-d005-74b6a07a1daa"
      },
      "execution_count": null,
      "outputs": [
        {
          "output_type": "stream",
          "name": "stdout",
          "text": [
            "False\n"
          ]
        }
      ]
    },
    {
      "cell_type": "markdown",
      "source": [
        "You can also create relations between objects using the `create_relation` function from RelationCreator. This does require the objects to have asset id's."
      ],
      "metadata": {
        "id": "C983oZop2IpF"
      }
    },
    {
      "cell_type": "code",
      "source": [
        "from otlmow_model.Helpers.RelationCreator import create_relation\n",
        "from otlmow_model.Classes.Onderdeel.Verkeersregelaar import Verkeersregelaar\n",
        "kast.assetId.identificator = 'kast01'\n",
        "vr = Verkeersregelaar()\n",
        "vr.assetId.identificator = 'vr01'\n",
        "relation = create_relation(source=vr, target=kast, relation_type=Bevestiging)\n",
        "print(relation)"
      ],
      "metadata": {
        "id": "C49TKAeG83ac",
        "outputId": "1f3a1fa3-b76d-4fdd-a548-c3b8f4cede93",
        "colab": {
          "base_uri": "https://localhost:8080/"
        }
      },
      "execution_count": null,
      "outputs": [
        {
          "output_type": "stream",
          "name": "stdout",
          "text": [
            "<Bevestiging> object\n",
            "    typeURI : https://wegenenverkeer.data.vlaanderen.be/ns/onderdeel#Bevestiging\n",
            "    assetId :\n",
            "        identificator : vr01_-_kast01\n",
            "        toegekendDoor : OTLMOW\n",
            "    bron :\n",
            "    bronAssetId :\n",
            "        identificator : vr01\n",
            "    doel :\n",
            "    doelAssetId :\n",
            "        identificator : kast01\n"
          ]
        }
      ]
    },
    {
      "cell_type": "markdown",
      "source": [
        "You can now use the other modules to use these objects. For example the [otlmow-converter](/https://github.com/davidvlaminck/OTLMOW-Converter) module allows you to save these objects into a number of  DAVIE compliant files and also load those files into objects."
      ],
      "metadata": {
        "id": "VGW-f2sGyjTk"
      }
    }
  ]
}