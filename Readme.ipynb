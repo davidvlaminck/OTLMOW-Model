{
  "metadata": {
    "language_info": {
      "codemirror_mode": {
        "name": "python",
        "version": 3
      },
      "file_extension": ".py",
      "mimetype": "text/x-python",
      "name": "python",
      "nbconvert_exporter": "python",
      "pygments_lexer": "ipython3",
      "version": "3.8"
    },
    "kernelspec": {
      "name": "python",
      "display_name": "Python (Pyodide)",
      "language": "python"
    }
  },
  "nbformat_minor": 4,
  "nbformat": 4,
  "cells": [
    {
      "cell_type": "code",
      "source": "%pip install otlmow-model",
      "metadata": {
        "trusted": true
      },
      "execution_count": 1,
      "outputs": []
    },
    {
      "cell_type": "code",
      "source": "from otlmow_model.Classes.Onderdeel.Camera import Camera\ncamera = Camera()",
      "metadata": {
        "trusted": true
      },
      "execution_count": 2,
      "outputs": []
    },
    {
      "cell_type": "code",
      "source": "from otlmow_model.Helpers.AssetCreator import dynamic_create_instance_from_uri\ncamera_type_uri = 'https://wegenenverkeer.data.vlaanderen.be/ns/onderdeel#Camera'\ncamera = dynamic_create_instance_from_uri(camera_type_uri)",
      "metadata": {
        "tags": [],
        "trusted": true
      },
      "execution_count": 3,
      "outputs": []
    },
    {
      "cell_type": "code",
      "source": "from otlmow_model.Helpers.AssetCreator import dynamic_create_instance_from_ns_and_name\ncamera = dynamic_create_instance_from_ns_and_name(namespace='onderdeel', class_name='Camera')",
      "metadata": {
        "tags": [],
        "trusted": true
      },
      "execution_count": 4,
      "outputs": []
    },
    {
      "cell_type": "code",
      "source": "camera.toestand = 'in-gebruik'\ncamera.naam = 'CAM0001'\ncamera.opstelhoogte.waarde = 6.0",
      "metadata": {
        "trusted": true
      },
      "execution_count": 5,
      "outputs": []
    },
    {
      "cell_type": "code",
      "source": "from otlmow_model.Classes.Onderdeel.Camera import Camera\nd = {'toestand': 'in-gebruik',\n     'naam': 'CAM0001',\n     'opstelhoogte': {'waarde': 6.0}}\ncamera = Camera.from_dict(d)",
      "metadata": {
        "trusted": true
      },
      "execution_count": 6,
      "outputs": []
    },
    {
      "cell_type": "code",
      "source": "camera.isPtz = 'True'  # this raises a warning, as the value can be interpreted but is not the correct type\ncamera.isPtz = 20.0 # raises a CouldNotConvertToCorrectTypeError",
      "metadata": {
        "trusted": true
      },
      "execution_count": 7,
      "outputs": [
        {
          "name": "stderr",
          "text": "WARNING:root:Assigned a string to a boolean datatype. Automatically converted to the correct type. Please change the type\n",
          "output_type": "stream"
        },
        {
          "ename": "<class 'otlmow_model.Exceptions.CouldNotConvertToCorrectTypeError.CouldNotConvertToCorrectTypeError'>",
          "evalue": "20.0 could not be converted to correct type (implied by BooleanField)",
          "traceback": [
            "\u001b[0;31m---------------------------------------------------------------------------\u001b[0m",
            "\u001b[0;31mCouldNotConvertToCorrectTypeError\u001b[0m         Traceback (most recent call last)",
            "Cell \u001b[0;32mIn[21], line 2\u001b[0m\n\u001b[1;32m      1\u001b[0m camera\u001b[38;5;241m.\u001b[39misPtz \u001b[38;5;241m=\u001b[39m \u001b[38;5;124m'\u001b[39m\u001b[38;5;124mTrue\u001b[39m\u001b[38;5;124m'\u001b[39m  \u001b[38;5;66;03m# this raises a warning, as the value can be interpreted but is not the correct type\u001b[39;00m\n\u001b[0;32m----> 2\u001b[0m \u001b[43mcamera\u001b[49m\u001b[38;5;241;43m.\u001b[39;49m\u001b[43misPtz\u001b[49m \u001b[38;5;241m=\u001b[39m \u001b[38;5;241m20.0\u001b[39m \u001b[38;5;66;03m# raises a CouldNotConvertToCorrectTypeError\u001b[39;00m\n",
            "File \u001b[0;32m/lib/python3.11/site-packages/otlmow_model/BaseClasses/OTLObject.py:274\u001b[0m, in \u001b[0;36mOTLObject.__setattr__\u001b[0;34m(self, name, value)\u001b[0m\n\u001b[1;32m    272\u001b[0m \u001b[38;5;28;01mdef\u001b[39;00m \u001b[38;5;21m__setattr__\u001b[39m(\u001b[38;5;28mself\u001b[39m, name, value):\n\u001b[1;32m    273\u001b[0m     \u001b[38;5;28;01mif\u001b[39;00m name \u001b[38;5;241m!=\u001b[39m \u001b[38;5;124m'\u001b[39m\u001b[38;5;124mtypeURI\u001b[39m\u001b[38;5;124m'\u001b[39m:\n\u001b[0;32m--> 274\u001b[0m         \u001b[38;5;28;43msuper\u001b[39;49m\u001b[43m(\u001b[49m\u001b[43mOTLObject\u001b[49m\u001b[43m,\u001b[49m\u001b[43m \u001b[49m\u001b[38;5;28;43mself\u001b[39;49m\u001b[43m)\u001b[49m\u001b[38;5;241;43m.\u001b[39;49m\u001b[38;5;21;43m__setattr__\u001b[39;49m\u001b[43m(\u001b[49m\u001b[43mname\u001b[49m\u001b[43m,\u001b[49m\u001b[43m \u001b[49m\u001b[43mvalue\u001b[49m\u001b[43m)\u001b[49m\n\u001b[1;32m    275\u001b[0m     \u001b[38;5;28;01melse\u001b[39;00m:\n\u001b[1;32m    276\u001b[0m         \u001b[38;5;28;01mif\u001b[39;00m \u001b[38;5;28mhasattr\u001b[39m(\u001b[38;5;28mself\u001b[39m, \u001b[38;5;124m'\u001b[39m\u001b[38;5;124mtypeURI\u001b[39m\u001b[38;5;124m'\u001b[39m) \u001b[38;5;129;01mand\u001b[39;00m (value \u001b[38;5;129;01mis\u001b[39;00m \u001b[38;5;129;01mnot\u001b[39;00m \u001b[38;5;28;01mNone\u001b[39;00m \u001b[38;5;129;01mor\u001b[39;00m \u001b[38;5;28mself\u001b[39m\u001b[38;5;241m.\u001b[39mtypeURI \u001b[38;5;129;01mis\u001b[39;00m \u001b[38;5;129;01mnot\u001b[39;00m \u001b[38;5;28;01mNone\u001b[39;00m):\n",
            "File \u001b[0;32m/lib/python3.11/site-packages/otlmow_model/Classes/Onderdeel/Camera.py:205\u001b[0m, in \u001b[0;36mCamera.isPtz\u001b[0;34m(self, value)\u001b[0m\n\u001b[1;32m    203\u001b[0m \u001b[38;5;129m@isPtz\u001b[39m\u001b[38;5;241m.\u001b[39msetter\n\u001b[1;32m    204\u001b[0m \u001b[38;5;28;01mdef\u001b[39;00m \u001b[38;5;21misPtz\u001b[39m(\u001b[38;5;28mself\u001b[39m, value):\n\u001b[0;32m--> 205\u001b[0m     \u001b[38;5;28;43mself\u001b[39;49m\u001b[38;5;241;43m.\u001b[39;49m\u001b[43m_isPtz\u001b[49m\u001b[38;5;241;43m.\u001b[39;49m\u001b[43mset_waarde\u001b[49m\u001b[43m(\u001b[49m\u001b[43mvalue\u001b[49m\u001b[43m,\u001b[49m\u001b[43m \u001b[49m\u001b[43mowner\u001b[49m\u001b[38;5;241;43m=\u001b[39;49m\u001b[38;5;28;43mself\u001b[39;49m\u001b[43m)\u001b[49m\n",
            "File \u001b[0;32m/lib/python3.11/site-packages/otlmow_model/BaseClasses/OTLObject.py:181\u001b[0m, in \u001b[0;36mOTLAttribuut.set_waarde\u001b[0;34m(self, value, owner)\u001b[0m\n\u001b[1;32m    179\u001b[0m     \u001b[38;5;28mself\u001b[39m\u001b[38;5;241m.\u001b[39mwaarde \u001b[38;5;241m=\u001b[39m value\n\u001b[1;32m    180\u001b[0m \u001b[38;5;28;01melse\u001b[39;00m:\n\u001b[0;32m--> 181\u001b[0m     converted_value \u001b[38;5;241m=\u001b[39m \u001b[38;5;28;43mself\u001b[39;49m\u001b[38;5;241;43m.\u001b[39;49m\u001b[43mfield\u001b[49m\u001b[38;5;241;43m.\u001b[39;49m\u001b[43mconvert_to_correct_type\u001b[49m\u001b[43m(\u001b[49m\u001b[43mvalue\u001b[49m\u001b[43m)\u001b[49m\n\u001b[1;32m    182\u001b[0m     \u001b[38;5;28;01mif\u001b[39;00m \u001b[38;5;28missubclass\u001b[39m(\u001b[38;5;28mself\u001b[39m\u001b[38;5;241m.\u001b[39mfield, KeuzelijstField):\n\u001b[1;32m    183\u001b[0m         converted_value \u001b[38;5;241m=\u001b[39m \u001b[38;5;28mself\u001b[39m\u001b[38;5;241m.\u001b[39mfield\u001b[38;5;241m.\u001b[39mconvert_to_invulwaarde(converted_value, \u001b[38;5;28mself\u001b[39m\u001b[38;5;241m.\u001b[39mfield)\n",
            "File \u001b[0;32m/lib/python3.11/site-packages/otlmow_model/BaseClasses/BooleanField.py:41\u001b[0m, in \u001b[0;36mBooleanField.convert_to_correct_type\u001b[0;34m(cls, value, log_warnings)\u001b[0m\n\u001b[1;32m     39\u001b[0m         \u001b[38;5;28;01mreturn\u001b[39;00m \u001b[38;5;28;01mFalse\u001b[39;00m\n\u001b[1;32m     40\u001b[0m     \u001b[38;5;28;01mreturn\u001b[39;00m \u001b[38;5;28;01mTrue\u001b[39;00m\n\u001b[0;32m---> 41\u001b[0m \u001b[38;5;28;01mraise\u001b[39;00m CouldNotConvertToCorrectTypeError(\u001b[38;5;124mf\u001b[39m\u001b[38;5;124m'\u001b[39m\u001b[38;5;132;01m{\u001b[39;00mvalue\u001b[38;5;132;01m}\u001b[39;00m\u001b[38;5;124m could not be converted to correct type (implied by \u001b[39m\u001b[38;5;132;01m{\u001b[39;00m\u001b[38;5;28mcls\u001b[39m\u001b[38;5;241m.\u001b[39m\u001b[38;5;18m__name__\u001b[39m\u001b[38;5;132;01m}\u001b[39;00m\u001b[38;5;124m)\u001b[39m\u001b[38;5;124m'\u001b[39m)\n",
            "\u001b[0;31mCouldNotConvertToCorrectTypeError\u001b[0m: 20.0 could not be converted to correct type (implied by BooleanField)"
          ],
          "output_type": "error"
        }
      ]
    },
    {
      "cell_type": "code",
      "source": "print(camera)",
      "metadata": {
        "trusted": true
      },
      "execution_count": 8,
      "outputs": [
        {
          "name": "stdout",
          "text": "<Camera> object\n    typeURI : https://wegenenverkeer.data.vlaanderen.be/ns/onderdeel#Camera\n    isPtz : True\n    naam : CAM0001\n    opstelhoogte :\n        waarde : 6.0\n    toestand : in-gebruik\n",
          "output_type": "stream"
        }
      ]
    },
    {
      "cell_type": "code",
      "source": "from otlmow_model.BaseClasses.MetaInfo import meta_info\nprint(meta_info(camera, attribute='toestand'))",
      "metadata": {
        "trusted": true
      },
      "execution_count": 9,
      "outputs": [
        {
          "name": "stdout",
          "text": "Showing metadata of toestand:\ntypeURI: https://wegenenverkeer.data.vlaanderen.be/ns/implementatieelement#AIMToestand.toestand\ndefinition: Geeft de actuele stand in de levenscyclus van het object.\nvalid values:\n    geannuleerd\n    gepland\n    in-gebruik\n    in-ontwerp\n    in-opbouw\n    overgedragen\n    uit-gebruik\n    verwijderd\n",
          "output_type": "stream"
        }
      ]
    },
    {
      "cell_type": "code",
      "source": "print(meta_info(camera))",
      "metadata": {
        "trusted": true
      },
      "execution_count": 10,
      "outputs": [
        {
          "name": "stdout",
          "text": "Showing metadata of Camera:\ntypeURI: https://wegenenverkeer.data.vlaanderen.be/ns/onderdeel#Camera\ndefinition: Een CCTV-camera, closed-circuit television camera, kortweg camera, produceert beelden of opnames voor bewaking van een regio vanop afstand. Het is een element dat beelden neemt van een locatie en deze doorgeeft naar verschillende partijen om zo de werkelijke situatie te kunnen inschatten vanop afstand. Deze camera kan van het analoge type zijn of digitaal.\nattributes:\n    assetId (type: DtcIdentificator)\n    beeldverwerkingsinstelling (type: DtcCameraBeeldverwerking)\n    bestekPostNummer (type: String)\n    configBestandAid (type: DtcDocument) <deprecated since 2.3.0>\n    datumOprichtingObject (type: Date)\n    dnsNaam (type: String)\n    geometry (type: WKT)\n    heeftAid (type: Boolean) <deprecated since 2.3.0>\n    heeftSpitsstrook (type: Boolean) <deprecated since 2.3.0>\n    ipAdres (type: DteIPv4Adres)\n    isActief (type: Boolean)\n    isPtz (type: Boolean)\n    merk (type: KlCameraMerk)\n    modelnaam (type: KlCameraModelnaam)\n    naam (type: String)\n    notitie (type: String)\n    opstelhoogte (type: KwantWrdInMeter)\n    serienummer (type: String)\n    servicePrioriteit (type: KlServicePrioriteit)\n    spectrum (type: KlSpectrum)\n    standaardBestekPostNummer (type: String)\n    technischeFiche (type: DtcDocument)\n    theoretischeLevensduur (type: KwantWrdInMaand)\n    toestand (type: KlAIMToestand)\n",
          "output_type": "stream"
        }
      ]
    },
    {
      "cell_type": "code",
      "source": "from otlmow_model.Classes.Onderdeel.Camera import Camera\nfrom otlmow_model.Classes.Onderdeel.Bevestiging import Bevestiging\nfrom otlmow_model.Classes.Onderdeel.Wegkantkast import Wegkantkast\nfrom otlmow_model.Helpers.RelationValidator import is_valid_relation\n\ncamera = Camera()\nkast = Wegkantkast()\n\ncamera_kast_bevestiging = is_valid_relation(source=camera, target=kast, relation_type=Bevestiging)\nprint(camera_kast_bevestiging)",
      "metadata": {
        "trusted": true
      },
      "execution_count": 11,
      "outputs": [
        {
          "name": "stdout",
          "text": "False\n",
          "output_type": "stream"
        }
      ]
    },
    {
      "cell_type": "code",
      "source": "",
      "metadata": {},
      "execution_count": null,
      "outputs": []
    }
  ]
}